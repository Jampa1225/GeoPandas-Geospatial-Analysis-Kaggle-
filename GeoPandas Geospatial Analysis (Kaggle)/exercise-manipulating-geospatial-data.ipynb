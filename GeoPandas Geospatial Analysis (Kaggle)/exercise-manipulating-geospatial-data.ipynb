{
 "cells": [
  {
   "cell_type": "markdown",
   "id": "20fcfa0c",
   "metadata": {
    "papermill": {
     "duration": 0.011001,
     "end_time": "2024-08-31T10:30:27.325016",
     "exception": false,
     "start_time": "2024-08-31T10:30:27.314015",
     "status": "completed"
    },
    "tags": []
   },
   "source": [
    "**This notebook is an exercise in the [Geospatial Analysis](https://www.kaggle.com/learn/geospatial-analysis) course.  You can reference the tutorial at [this link](https://www.kaggle.com/alexisbcook/manipulating-geospatial-data).**\n",
    "\n",
    "---\n"
   ]
  },
  {
   "cell_type": "markdown",
   "id": "71e08669",
   "metadata": {
    "papermill": {
     "duration": 0.009485,
     "end_time": "2024-08-31T10:30:27.344919",
     "exception": false,
     "start_time": "2024-08-31T10:30:27.335434",
     "status": "completed"
    },
    "tags": []
   },
   "source": [
    "# Introduction\n",
    "\n",
    "You are a Starbucks big data analyst ([that’s a real job!](https://www.forbes.com/sites/bernardmarr/2018/05/28/starbucks-using-big-data-analytics-and-artificial-intelligence-to-boost-performance/#130c7d765cdc)) looking to find the next store into a [Starbucks Reserve Roastery](https://www.businessinsider.com/starbucks-reserve-roastery-compared-regular-starbucks-2018-12#also-on-the-first-floor-was-the-main-coffee-bar-five-hourglass-like-units-hold-the-freshly-roasted-coffee-beans-that-are-used-in-each-order-the-selection-rotates-seasonally-5).  These roasteries are much larger than a typical Starbucks store and have several additional features, including various food and wine options, along with upscale lounge areas.  You'll investigate the demographics of various counties in the state of California, to determine potentially suitable locations.\n",
    "\n",
    "<center>\n",
    "<img src=\"https://storage.googleapis.com/kaggle-media/learn/images/BIyE6kR.png\" width=\"450\"><br/><br/>\n",
    "</center>\n",
    "\n",
    "Before you get started, run the code cell below to set everything up."
   ]
  },
  {
   "cell_type": "code",
   "execution_count": 1,
   "id": "3116859d",
   "metadata": {
    "execution": {
     "iopub.execute_input": "2024-08-31T10:30:27.366634Z",
     "iopub.status.busy": "2024-08-31T10:30:27.366082Z",
     "iopub.status.idle": "2024-08-31T10:30:30.029254Z",
     "shell.execute_reply": "2024-08-31T10:30:30.028109Z"
    },
    "papermill": {
     "duration": 2.677507,
     "end_time": "2024-08-31T10:30:30.032225",
     "exception": false,
     "start_time": "2024-08-31T10:30:27.354718",
     "status": "completed"
    },
    "tags": []
   },
   "outputs": [],
   "source": [
    "import math\n",
    "import pandas as pd\n",
    "import geopandas as gpd\n",
    "#from geopy.geocoders import Nominatim            # What you'd normally run\n",
    "from learntools.geospatial.tools import Nominatim # Just for this exercise\n",
    "\n",
    "import folium \n",
    "from folium import Marker\n",
    "from folium.plugins import MarkerCluster\n",
    "\n",
    "from learntools.core import binder\n",
    "binder.bind(globals())\n",
    "from learntools.geospatial.ex4 import *"
   ]
  },
  {
   "cell_type": "markdown",
   "id": "59940a65",
   "metadata": {
    "papermill": {
     "duration": 0.011165,
     "end_time": "2024-08-31T10:30:30.053399",
     "exception": false,
     "start_time": "2024-08-31T10:30:30.042234",
     "status": "completed"
    },
    "tags": []
   },
   "source": [
    "You'll use the `embed_map()` function from the previous exercise to visualize your maps."
   ]
  },
  {
   "cell_type": "code",
   "execution_count": 2,
   "id": "1cbee35b",
   "metadata": {
    "execution": {
     "iopub.execute_input": "2024-08-31T10:30:30.076832Z",
     "iopub.status.busy": "2024-08-31T10:30:30.075770Z",
     "iopub.status.idle": "2024-08-31T10:30:30.082022Z",
     "shell.execute_reply": "2024-08-31T10:30:30.080875Z"
    },
    "papermill": {
     "duration": 0.01993,
     "end_time": "2024-08-31T10:30:30.084409",
     "exception": false,
     "start_time": "2024-08-31T10:30:30.064479",
     "status": "completed"
    },
    "tags": []
   },
   "outputs": [],
   "source": [
    "def embed_map(m, file_name):\n",
    "    from IPython.display import IFrame\n",
    "    m.save(file_name)\n",
    "    return IFrame(file_name, width='100%', height='500px')"
   ]
  },
  {
   "cell_type": "markdown",
   "id": "06f7a30c",
   "metadata": {
    "papermill": {
     "duration": 0.010067,
     "end_time": "2024-08-31T10:30:30.105319",
     "exception": false,
     "start_time": "2024-08-31T10:30:30.095252",
     "status": "completed"
    },
    "tags": []
   },
   "source": [
    "# Exercises\n",
    "\n",
    "### 1) Geocode the missing locations.\n",
    "\n",
    "Run the next code cell to create a DataFrame `starbucks` containing Starbucks locations in the state of California."
   ]
  },
  {
   "cell_type": "code",
   "execution_count": 3,
   "id": "9e2211e0",
   "metadata": {
    "execution": {
     "iopub.execute_input": "2024-08-31T10:30:30.127625Z",
     "iopub.status.busy": "2024-08-31T10:30:30.126606Z",
     "iopub.status.idle": "2024-08-31T10:30:30.156411Z",
     "shell.execute_reply": "2024-08-31T10:30:30.155323Z"
    },
    "papermill": {
     "duration": 0.04395,
     "end_time": "2024-08-31T10:30:30.158973",
     "exception": false,
     "start_time": "2024-08-31T10:30:30.115023",
     "status": "completed"
    },
    "tags": []
   },
   "outputs": [
    {
     "data": {
      "text/html": [
       "<div>\n",
       "<style scoped>\n",
       "    .dataframe tbody tr th:only-of-type {\n",
       "        vertical-align: middle;\n",
       "    }\n",
       "\n",
       "    .dataframe tbody tr th {\n",
       "        vertical-align: top;\n",
       "    }\n",
       "\n",
       "    .dataframe thead th {\n",
       "        text-align: right;\n",
       "    }\n",
       "</style>\n",
       "<table border=\"1\" class=\"dataframe\">\n",
       "  <thead>\n",
       "    <tr style=\"text-align: right;\">\n",
       "      <th></th>\n",
       "      <th>Store Number</th>\n",
       "      <th>Store Name</th>\n",
       "      <th>Address</th>\n",
       "      <th>City</th>\n",
       "      <th>Longitude</th>\n",
       "      <th>Latitude</th>\n",
       "    </tr>\n",
       "  </thead>\n",
       "  <tbody>\n",
       "    <tr>\n",
       "      <th>0</th>\n",
       "      <td>10429-100710</td>\n",
       "      <td>Palmdale &amp; Hwy 395</td>\n",
       "      <td>14136 US Hwy 395 Adelanto CA</td>\n",
       "      <td>Adelanto</td>\n",
       "      <td>-117.40</td>\n",
       "      <td>34.51</td>\n",
       "    </tr>\n",
       "    <tr>\n",
       "      <th>1</th>\n",
       "      <td>635-352</td>\n",
       "      <td>Kanan &amp; Thousand Oaks</td>\n",
       "      <td>5827 Kanan Road Agoura CA</td>\n",
       "      <td>Agoura</td>\n",
       "      <td>-118.76</td>\n",
       "      <td>34.16</td>\n",
       "    </tr>\n",
       "    <tr>\n",
       "      <th>2</th>\n",
       "      <td>74510-27669</td>\n",
       "      <td>Vons-Agoura Hills #2001</td>\n",
       "      <td>5671 Kanan Rd. Agoura Hills CA</td>\n",
       "      <td>Agoura Hills</td>\n",
       "      <td>-118.76</td>\n",
       "      <td>34.15</td>\n",
       "    </tr>\n",
       "    <tr>\n",
       "      <th>3</th>\n",
       "      <td>29839-255026</td>\n",
       "      <td>Target Anaheim T-0677</td>\n",
       "      <td>8148 E SANTA ANA CANYON ROAD AHAHEIM CA</td>\n",
       "      <td>AHAHEIM</td>\n",
       "      <td>-117.75</td>\n",
       "      <td>33.87</td>\n",
       "    </tr>\n",
       "    <tr>\n",
       "      <th>4</th>\n",
       "      <td>23463-230284</td>\n",
       "      <td>Safeway - Alameda 3281</td>\n",
       "      <td>2600 5th Street Alameda CA</td>\n",
       "      <td>Alameda</td>\n",
       "      <td>-122.28</td>\n",
       "      <td>37.79</td>\n",
       "    </tr>\n",
       "  </tbody>\n",
       "</table>\n",
       "</div>"
      ],
      "text/plain": [
       "   Store Number               Store Name  \\\n",
       "0  10429-100710       Palmdale & Hwy 395   \n",
       "1       635-352    Kanan & Thousand Oaks   \n",
       "2   74510-27669  Vons-Agoura Hills #2001   \n",
       "3  29839-255026    Target Anaheim T-0677   \n",
       "4  23463-230284   Safeway - Alameda 3281   \n",
       "\n",
       "                                   Address          City  Longitude  Latitude  \n",
       "0             14136 US Hwy 395 Adelanto CA      Adelanto    -117.40     34.51  \n",
       "1                5827 Kanan Road Agoura CA        Agoura    -118.76     34.16  \n",
       "2           5671 Kanan Rd. Agoura Hills CA  Agoura Hills    -118.76     34.15  \n",
       "3  8148 E SANTA ANA CANYON ROAD AHAHEIM CA       AHAHEIM    -117.75     33.87  \n",
       "4               2600 5th Street Alameda CA       Alameda    -122.28     37.79  "
      ]
     },
     "execution_count": 3,
     "metadata": {},
     "output_type": "execute_result"
    }
   ],
   "source": [
    "# Load and preview Starbucks locations in California\n",
    "starbucks = pd.read_csv(\"../input/geospatial-learn-course-data/starbucks_locations.csv\")\n",
    "starbucks.head()"
   ]
  },
  {
   "cell_type": "markdown",
   "id": "7e335495",
   "metadata": {
    "papermill": {
     "duration": 0.010013,
     "end_time": "2024-08-31T10:30:30.179170",
     "exception": false,
     "start_time": "2024-08-31T10:30:30.169157",
     "status": "completed"
    },
    "tags": []
   },
   "source": [
    "Most of the stores have known (latitude, longitude) locations.  But, all of the locations in the city of Berkeley are missing."
   ]
  },
  {
   "cell_type": "code",
   "execution_count": 4,
   "id": "947734ec",
   "metadata": {
    "execution": {
     "iopub.execute_input": "2024-08-31T10:30:30.200886Z",
     "iopub.status.busy": "2024-08-31T10:30:30.200357Z",
     "iopub.status.idle": "2024-08-31T10:30:30.219173Z",
     "shell.execute_reply": "2024-08-31T10:30:30.217838Z"
    },
    "papermill": {
     "duration": 0.032679,
     "end_time": "2024-08-31T10:30:30.221941",
     "exception": false,
     "start_time": "2024-08-31T10:30:30.189262",
     "status": "completed"
    },
    "tags": []
   },
   "outputs": [
    {
     "name": "stdout",
     "output_type": "stream",
     "text": [
      "Store Number    0\n",
      "Store Name      0\n",
      "Address         0\n",
      "City            0\n",
      "Longitude       5\n",
      "Latitude        5\n",
      "dtype: int64\n"
     ]
    },
    {
     "data": {
      "text/html": [
       "<div>\n",
       "<style scoped>\n",
       "    .dataframe tbody tr th:only-of-type {\n",
       "        vertical-align: middle;\n",
       "    }\n",
       "\n",
       "    .dataframe tbody tr th {\n",
       "        vertical-align: top;\n",
       "    }\n",
       "\n",
       "    .dataframe thead th {\n",
       "        text-align: right;\n",
       "    }\n",
       "</style>\n",
       "<table border=\"1\" class=\"dataframe\">\n",
       "  <thead>\n",
       "    <tr style=\"text-align: right;\">\n",
       "      <th></th>\n",
       "      <th>Store Number</th>\n",
       "      <th>Store Name</th>\n",
       "      <th>Address</th>\n",
       "      <th>City</th>\n",
       "      <th>Longitude</th>\n",
       "      <th>Latitude</th>\n",
       "    </tr>\n",
       "  </thead>\n",
       "  <tbody>\n",
       "    <tr>\n",
       "      <th>153</th>\n",
       "      <td>5406-945</td>\n",
       "      <td>2224 Shattuck - Berkeley</td>\n",
       "      <td>2224 Shattuck Avenue Berkeley CA</td>\n",
       "      <td>Berkeley</td>\n",
       "      <td>NaN</td>\n",
       "      <td>NaN</td>\n",
       "    </tr>\n",
       "    <tr>\n",
       "      <th>154</th>\n",
       "      <td>570-512</td>\n",
       "      <td>Solano Ave</td>\n",
       "      <td>1799 Solano Avenue Berkeley CA</td>\n",
       "      <td>Berkeley</td>\n",
       "      <td>NaN</td>\n",
       "      <td>NaN</td>\n",
       "    </tr>\n",
       "    <tr>\n",
       "      <th>155</th>\n",
       "      <td>17877-164526</td>\n",
       "      <td>Safeway - Berkeley #691</td>\n",
       "      <td>1444 Shattuck Place Berkeley CA</td>\n",
       "      <td>Berkeley</td>\n",
       "      <td>NaN</td>\n",
       "      <td>NaN</td>\n",
       "    </tr>\n",
       "    <tr>\n",
       "      <th>156</th>\n",
       "      <td>19864-202264</td>\n",
       "      <td>Telegraph &amp; Ashby</td>\n",
       "      <td>3001 Telegraph Avenue Berkeley CA</td>\n",
       "      <td>Berkeley</td>\n",
       "      <td>NaN</td>\n",
       "      <td>NaN</td>\n",
       "    </tr>\n",
       "    <tr>\n",
       "      <th>157</th>\n",
       "      <td>9217-9253</td>\n",
       "      <td>2128 Oxford St.</td>\n",
       "      <td>2128 Oxford Street Berkeley CA</td>\n",
       "      <td>Berkeley</td>\n",
       "      <td>NaN</td>\n",
       "      <td>NaN</td>\n",
       "    </tr>\n",
       "  </tbody>\n",
       "</table>\n",
       "</div>"
      ],
      "text/plain": [
       "     Store Number                Store Name  \\\n",
       "153      5406-945  2224 Shattuck - Berkeley   \n",
       "154       570-512                Solano Ave   \n",
       "155  17877-164526   Safeway - Berkeley #691   \n",
       "156  19864-202264         Telegraph & Ashby   \n",
       "157     9217-9253           2128 Oxford St.   \n",
       "\n",
       "                               Address      City  Longitude  Latitude  \n",
       "153   2224 Shattuck Avenue Berkeley CA  Berkeley        NaN       NaN  \n",
       "154     1799 Solano Avenue Berkeley CA  Berkeley        NaN       NaN  \n",
       "155    1444 Shattuck Place Berkeley CA  Berkeley        NaN       NaN  \n",
       "156  3001 Telegraph Avenue Berkeley CA  Berkeley        NaN       NaN  \n",
       "157     2128 Oxford Street Berkeley CA  Berkeley        NaN       NaN  "
      ]
     },
     "execution_count": 4,
     "metadata": {},
     "output_type": "execute_result"
    }
   ],
   "source": [
    "# How many rows in each column have missing values?\n",
    "print(starbucks.isnull().sum())\n",
    "\n",
    "# View rows with missing locations\n",
    "rows_with_missing = starbucks[starbucks[\"City\"]==\"Berkeley\"]\n",
    "rows_with_missing"
   ]
  },
  {
   "cell_type": "markdown",
   "id": "68f4b873",
   "metadata": {
    "papermill": {
     "duration": 0.009899,
     "end_time": "2024-08-31T10:30:30.242490",
     "exception": false,
     "start_time": "2024-08-31T10:30:30.232591",
     "status": "completed"
    },
    "tags": []
   },
   "source": [
    "Use the code cell below to fill in these values with the Nominatim geocoder.\n",
    "\n",
    "Note that in the tutorial, we used `Nominatim()` (from `geopy.geocoders`) to geocode values, and this is what you can use in your own projects outside of this course.  \n",
    "\n",
    "In this exercise, you will use a slightly different function `Nominatim()` (from `learntools.geospatial.tools`).  This function was imported at the top of the notebook and works identically to the function from GeoPandas.\n",
    "\n",
    "So, in other words, as long as: \n",
    "- you don't change the import statements at the top of the notebook, and \n",
    "- you call the geocoding function as `geocode()` in the code cell below, \n",
    "\n",
    "your code will work as intended!"
   ]
  },
  {
   "cell_type": "code",
   "execution_count": 5,
   "id": "0c2253f1",
   "metadata": {
    "execution": {
     "iopub.execute_input": "2024-08-31T10:30:30.264934Z",
     "iopub.status.busy": "2024-08-31T10:30:30.264485Z",
     "iopub.status.idle": "2024-08-31T10:30:30.341000Z",
     "shell.execute_reply": "2024-08-31T10:30:30.339800Z"
    },
    "papermill": {
     "duration": 0.090763,
     "end_time": "2024-08-31T10:30:30.343601",
     "exception": false,
     "start_time": "2024-08-31T10:30:30.252838",
     "status": "completed"
    },
    "tags": []
   },
   "outputs": [
    {
     "data": {
      "application/javascript": [
       "parent.postMessage({\"jupyterEvent\": \"custom.exercise_interaction\", \"data\": {\"outcomeType\": 1, \"valueTowardsCompletion\": 0.2, \"interactionType\": 1, \"questionType\": 2, \"questionId\": \"1_Q1\", \"learnToolsVersion\": \"0.3.4\", \"failureMessage\": \"\", \"exceptionClass\": \"\", \"trace\": \"\"}}, \"*\")"
      ],
      "text/plain": [
       "<IPython.core.display.Javascript object>"
      ]
     },
     "metadata": {},
     "output_type": "display_data"
    },
    {
     "data": {
      "text/markdown": [
       "<span style=\"color:#33cc33\">Correct</span>"
      ],
      "text/plain": [
       "Correct"
      ]
     },
     "metadata": {},
     "output_type": "display_data"
    }
   ],
   "source": [
    "# Create the geocoder\n",
    "geolocator = Nominatim(user_agent=\"kaggle_learn\")\n",
    "\n",
    "# Your code here\n",
    "def my_geocoder(row):\n",
    "    point = geolocator.geocode(row).point\n",
    "    return pd.Series({'Latitude': point.latitude, 'Longitude': point.longitude})\n",
    "\n",
    "berkeley_locations = rows_with_missing.apply(lambda x: my_geocoder(x['Address']), axis=1)\n",
    "starbucks.update(berkeley_locations)\n",
    "\n",
    "# Check your answer\n",
    "q_1.check()"
   ]
  },
  {
   "cell_type": "code",
   "execution_count": 6,
   "id": "3d595204",
   "metadata": {
    "execution": {
     "iopub.execute_input": "2024-08-31T10:30:30.367397Z",
     "iopub.status.busy": "2024-08-31T10:30:30.366353Z",
     "iopub.status.idle": "2024-08-31T10:30:30.384687Z",
     "shell.execute_reply": "2024-08-31T10:30:30.383017Z"
    },
    "papermill": {
     "duration": 0.03276,
     "end_time": "2024-08-31T10:30:30.387105",
     "exception": false,
     "start_time": "2024-08-31T10:30:30.354345",
     "status": "completed"
    },
    "tags": []
   },
   "outputs": [
    {
     "name": "stdout",
     "output_type": "stream",
     "text": [
      "Store Number    0\n",
      "Store Name      0\n",
      "Address         0\n",
      "City            0\n",
      "Longitude       0\n",
      "Latitude        0\n",
      "dtype: int64\n"
     ]
    },
    {
     "data": {
      "text/html": [
       "<div>\n",
       "<style scoped>\n",
       "    .dataframe tbody tr th:only-of-type {\n",
       "        vertical-align: middle;\n",
       "    }\n",
       "\n",
       "    .dataframe tbody tr th {\n",
       "        vertical-align: top;\n",
       "    }\n",
       "\n",
       "    .dataframe thead th {\n",
       "        text-align: right;\n",
       "    }\n",
       "</style>\n",
       "<table border=\"1\" class=\"dataframe\">\n",
       "  <thead>\n",
       "    <tr style=\"text-align: right;\">\n",
       "      <th></th>\n",
       "      <th>Store Number</th>\n",
       "      <th>Store Name</th>\n",
       "      <th>Address</th>\n",
       "      <th>City</th>\n",
       "      <th>Longitude</th>\n",
       "      <th>Latitude</th>\n",
       "    </tr>\n",
       "  </thead>\n",
       "  <tbody>\n",
       "    <tr>\n",
       "      <th>153</th>\n",
       "      <td>5406-945</td>\n",
       "      <td>2224 Shattuck - Berkeley</td>\n",
       "      <td>2224 Shattuck Avenue Berkeley CA</td>\n",
       "      <td>Berkeley</td>\n",
       "      <td>-122.268230</td>\n",
       "      <td>37.868839</td>\n",
       "    </tr>\n",
       "    <tr>\n",
       "      <th>154</th>\n",
       "      <td>570-512</td>\n",
       "      <td>Solano Ave</td>\n",
       "      <td>1799 Solano Avenue Berkeley CA</td>\n",
       "      <td>Berkeley</td>\n",
       "      <td>-122.280050</td>\n",
       "      <td>37.891383</td>\n",
       "    </tr>\n",
       "    <tr>\n",
       "      <th>155</th>\n",
       "      <td>17877-164526</td>\n",
       "      <td>Safeway - Berkeley #691</td>\n",
       "      <td>1444 Shattuck Place Berkeley CA</td>\n",
       "      <td>Berkeley</td>\n",
       "      <td>-122.269679</td>\n",
       "      <td>37.880907</td>\n",
       "    </tr>\n",
       "    <tr>\n",
       "      <th>156</th>\n",
       "      <td>19864-202264</td>\n",
       "      <td>Telegraph &amp; Ashby</td>\n",
       "      <td>3001 Telegraph Avenue Berkeley CA</td>\n",
       "      <td>Berkeley</td>\n",
       "      <td>-122.259370</td>\n",
       "      <td>37.855947</td>\n",
       "    </tr>\n",
       "    <tr>\n",
       "      <th>157</th>\n",
       "      <td>9217-9253</td>\n",
       "      <td>2128 Oxford St.</td>\n",
       "      <td>2128 Oxford Street Berkeley CA</td>\n",
       "      <td>Berkeley</td>\n",
       "      <td>-122.266079</td>\n",
       "      <td>37.870410</td>\n",
       "    </tr>\n",
       "  </tbody>\n",
       "</table>\n",
       "</div>"
      ],
      "text/plain": [
       "     Store Number                Store Name  \\\n",
       "153      5406-945  2224 Shattuck - Berkeley   \n",
       "154       570-512                Solano Ave   \n",
       "155  17877-164526   Safeway - Berkeley #691   \n",
       "156  19864-202264         Telegraph & Ashby   \n",
       "157     9217-9253           2128 Oxford St.   \n",
       "\n",
       "                               Address      City   Longitude   Latitude  \n",
       "153   2224 Shattuck Avenue Berkeley CA  Berkeley -122.268230  37.868839  \n",
       "154     1799 Solano Avenue Berkeley CA  Berkeley -122.280050  37.891383  \n",
       "155    1444 Shattuck Place Berkeley CA  Berkeley -122.269679  37.880907  \n",
       "156  3001 Telegraph Avenue Berkeley CA  Berkeley -122.259370  37.855947  \n",
       "157     2128 Oxford Street Berkeley CA  Berkeley -122.266079  37.870410  "
      ]
     },
     "execution_count": 6,
     "metadata": {},
     "output_type": "execute_result"
    }
   ],
   "source": [
    "print(starbucks.isnull().sum()) #now we clear idea there is no null values after only replacing\n",
    "rows_with_missing = starbucks[starbucks[\"City\"]==\"Berkeley\"]\n",
    "rows_with_missing"
   ]
  },
  {
   "cell_type": "code",
   "execution_count": 7,
   "id": "5d071262",
   "metadata": {
    "execution": {
     "iopub.execute_input": "2024-08-31T10:30:30.410925Z",
     "iopub.status.busy": "2024-08-31T10:30:30.410446Z",
     "iopub.status.idle": "2024-08-31T10:30:30.420089Z",
     "shell.execute_reply": "2024-08-31T10:30:30.418659Z"
    },
    "papermill": {
     "duration": 0.024315,
     "end_time": "2024-08-31T10:30:30.422550",
     "exception": false,
     "start_time": "2024-08-31T10:30:30.398235",
     "status": "completed"
    },
    "tags": []
   },
   "outputs": [
    {
     "data": {
      "application/javascript": [
       "parent.postMessage({\"jupyterEvent\": \"custom.exercise_interaction\", \"data\": {\"interactionType\": 3, \"questionType\": 2, \"questionId\": \"1_Q1\", \"learnToolsVersion\": \"0.3.4\", \"valueTowardsCompletion\": 0.0, \"failureMessage\": \"\", \"exceptionClass\": \"\", \"trace\": \"\", \"outcomeType\": 4}}, \"*\")"
      ],
      "text/plain": [
       "<IPython.core.display.Javascript object>"
      ]
     },
     "metadata": {},
     "output_type": "display_data"
    },
    {
     "data": {
      "text/markdown": [
       "<span style=\"color:#33cc99\">Solution:</span> \n",
       "```python\n",
       "def my_geocoder(row):\n",
       "    point = geolocator.geocode(row).point\n",
       "    return pd.Series({'Latitude': point.latitude, 'Longitude': point.longitude})\n",
       "\n",
       "berkeley_locations = rows_with_missing.apply(lambda x: my_geocoder(x['Address']), axis=1)\n",
       "starbucks.update(berkeley_locations)\n",
       "\n",
       "```"
      ],
      "text/plain": [
       "Solution: \n",
       "```python\n",
       "def my_geocoder(row):\n",
       "    point = geolocator.geocode(row).point\n",
       "    return pd.Series({'Latitude': point.latitude, 'Longitude': point.longitude})\n",
       "\n",
       "berkeley_locations = rows_with_missing.apply(lambda x: my_geocoder(x['Address']), axis=1)\n",
       "starbucks.update(berkeley_locations)\n",
       "\n",
       "```"
      ]
     },
     "metadata": {},
     "output_type": "display_data"
    }
   ],
   "source": [
    "# Line below will give you solution code\n",
    "q_1.solution()"
   ]
  },
  {
   "cell_type": "markdown",
   "id": "a946b933",
   "metadata": {
    "papermill": {
     "duration": 0.011167,
     "end_time": "2024-08-31T10:30:30.445236",
     "exception": false,
     "start_time": "2024-08-31T10:30:30.434069",
     "status": "completed"
    },
    "tags": []
   },
   "source": [
    "### 2) View Berkeley locations.\n",
    "\n",
    "Let's take a look at the locations you just found.  Visualize the (latitude, longitude) locations in Berkeley in the OpenStreetMap style. "
   ]
  },
  {
   "cell_type": "code",
   "execution_count": 8,
   "id": "e3fd5dbf",
   "metadata": {
    "execution": {
     "iopub.execute_input": "2024-08-31T10:30:30.470807Z",
     "iopub.status.busy": "2024-08-31T10:30:30.470359Z",
     "iopub.status.idle": "2024-08-31T10:30:30.500122Z",
     "shell.execute_reply": "2024-08-31T10:30:30.498894Z"
    },
    "papermill": {
     "duration": 0.045148,
     "end_time": "2024-08-31T10:30:30.502536",
     "exception": false,
     "start_time": "2024-08-31T10:30:30.457388",
     "status": "completed"
    },
    "tags": []
   },
   "outputs": [
    {
     "data": {
      "application/javascript": [
       "parent.postMessage({\"jupyterEvent\": \"custom.exercise_interaction\", \"data\": {\"interactionType\": 2, \"questionType\": 2, \"questionId\": \"2.1_Q2P\", \"learnToolsVersion\": \"0.3.4\", \"valueTowardsCompletion\": 0.0, \"failureMessage\": \"\", \"exceptionClass\": \"\", \"trace\": \"\", \"outcomeType\": 4}}, \"*\")"
      ],
      "text/plain": [
       "<IPython.core.display.Javascript object>"
      ]
     },
     "metadata": {},
     "output_type": "display_data"
    },
    {
     "data": {
      "text/markdown": [
       "<span style=\"color:#3366cc\">Hint:</span> Use `folium.Marker()` to add a location for each entry in `starbucks[starbucks[\"City\"]=='Berkeley']`."
      ],
      "text/plain": [
       "Hint: Use `folium.Marker()` to add a location for each entry in `starbucks[starbucks[\"City\"]=='Berkeley']`."
      ]
     },
     "metadata": {},
     "output_type": "display_data"
    },
    {
     "data": {
      "text/html": [
       "\n",
       "        <iframe\n",
       "            width=\"100%\"\n",
       "            height=\"500px\"\n",
       "            src=\"q_2.html\"\n",
       "            frameborder=\"0\"\n",
       "            allowfullscreen\n",
       "            \n",
       "        ></iframe>\n",
       "        "
      ],
      "text/plain": [
       "<IPython.lib.display.IFrame at 0x77ffd9aaa830>"
      ]
     },
     "execution_count": 8,
     "metadata": {},
     "output_type": "execute_result"
    }
   ],
   "source": [
    "# Create a base map\n",
    "m_2 = folium.Map(location=[37.88,-122.26], zoom_start=13)\n",
    "\n",
    "# Your code here: Add a marker for each Berkeley location\n",
    "for idx, row in starbucks[starbucks['City']=='Berkeley'].iterrows():\n",
    "    Marker([row['Latitude'], row['Longitude']]).add_to(m_2)\n",
    "\n",
    "# Uncomment to see a hint\n",
    "q_2.a.hint()\n",
    "\n",
    "# Show the map\n",
    "embed_map(m_2, 'q_2.html')"
   ]
  },
  {
   "cell_type": "code",
   "execution_count": 9,
   "id": "16518f51",
   "metadata": {
    "execution": {
     "iopub.execute_input": "2024-08-31T10:30:30.527798Z",
     "iopub.status.busy": "2024-08-31T10:30:30.527286Z",
     "iopub.status.idle": "2024-08-31T10:30:30.540692Z",
     "shell.execute_reply": "2024-08-31T10:30:30.539284Z"
    },
    "papermill": {
     "duration": 0.029261,
     "end_time": "2024-08-31T10:30:30.543567",
     "exception": false,
     "start_time": "2024-08-31T10:30:30.514306",
     "status": "completed"
    },
    "tags": []
   },
   "outputs": [],
   "source": [
    "m_2.save('starbucks_map.html')\n"
   ]
  },
  {
   "cell_type": "code",
   "execution_count": 10,
   "id": "5f242f8a",
   "metadata": {
    "execution": {
     "iopub.execute_input": "2024-08-31T10:30:30.569485Z",
     "iopub.status.busy": "2024-08-31T10:30:30.568760Z",
     "iopub.status.idle": "2024-08-31T10:30:30.584575Z",
     "shell.execute_reply": "2024-08-31T10:30:30.583295Z"
    },
    "papermill": {
     "duration": 0.031701,
     "end_time": "2024-08-31T10:30:30.587470",
     "exception": false,
     "start_time": "2024-08-31T10:30:30.555769",
     "status": "completed"
    },
    "tags": []
   },
   "outputs": [
    {
     "data": {
      "application/javascript": [
       "parent.postMessage({\"jupyterEvent\": \"custom.exercise_interaction\", \"data\": {\"outcomeType\": 1, \"valueTowardsCompletion\": 0.2, \"interactionType\": 1, \"questionType\": 2, \"questionId\": \"2.1_Q2P\", \"learnToolsVersion\": \"0.3.4\", \"failureMessage\": \"\", \"exceptionClass\": \"\", \"trace\": \"\"}}, \"*\")"
      ],
      "text/plain": [
       "<IPython.core.display.Javascript object>"
      ]
     },
     "metadata": {},
     "output_type": "display_data"
    },
    {
     "data": {
      "text/markdown": [
       "<span style=\"color:#33cc33\">Thank you for creating a map!</span>"
      ],
      "text/plain": [
       "Thank you for creating a map!"
      ]
     },
     "metadata": {},
     "output_type": "display_data"
    },
    {
     "data": {
      "application/javascript": [
       "parent.postMessage({\"jupyterEvent\": \"custom.exercise_interaction\", \"data\": {\"interactionType\": 3, \"questionType\": 2, \"questionId\": \"2.1_Q2P\", \"learnToolsVersion\": \"0.3.4\", \"valueTowardsCompletion\": 0.0, \"failureMessage\": \"\", \"exceptionClass\": \"\", \"trace\": \"\", \"outcomeType\": 4}}, \"*\")"
      ],
      "text/plain": [
       "<IPython.core.display.Javascript object>"
      ]
     },
     "metadata": {},
     "output_type": "display_data"
    },
    {
     "data": {
      "text/markdown": [
       "<span style=\"color:#33cc99\">Solution:</span> \n",
       "```python\n",
       "# Add a marker for each Berkeley location\n",
       "for idx, row in starbucks[starbucks[\"City\"]=='Berkeley'].iterrows():\n",
       "    Marker([row['Latitude'], row['Longitude']]).add_to(m_2)\n",
       "\n",
       "```"
      ],
      "text/plain": [
       "Solution: \n",
       "```python\n",
       "# Add a marker for each Berkeley location\n",
       "for idx, row in starbucks[starbucks[\"City\"]=='Berkeley'].iterrows():\n",
       "    Marker([row['Latitude'], row['Longitude']]).add_to(m_2)\n",
       "\n",
       "```"
      ]
     },
     "metadata": {},
     "output_type": "display_data"
    }
   ],
   "source": [
    "# Get credit for your work after you have created a map\n",
    "q_2.a.check()\n",
    "\n",
    "# Uncomment to see our solution (your code may look different!)\n",
    "q_2.a.solution()"
   ]
  },
  {
   "cell_type": "markdown",
   "id": "259a6d1c",
   "metadata": {
    "papermill": {
     "duration": 0.012353,
     "end_time": "2024-08-31T10:30:30.612722",
     "exception": false,
     "start_time": "2024-08-31T10:30:30.600369",
     "status": "completed"
    },
    "tags": []
   },
   "source": [
    "Considering only the five locations in Berkeley, how many of the (latitude, longitude) locations seem potentially correct (are located in the correct city)?"
   ]
  },
  {
   "cell_type": "code",
   "execution_count": 11,
   "id": "4787373f",
   "metadata": {
    "execution": {
     "iopub.execute_input": "2024-08-31T10:30:30.638300Z",
     "iopub.status.busy": "2024-08-31T10:30:30.637880Z",
     "iopub.status.idle": "2024-08-31T10:30:30.647919Z",
     "shell.execute_reply": "2024-08-31T10:30:30.646732Z"
    },
    "papermill": {
     "duration": 0.025651,
     "end_time": "2024-08-31T10:30:30.650299",
     "exception": false,
     "start_time": "2024-08-31T10:30:30.624648",
     "status": "completed"
    },
    "tags": []
   },
   "outputs": [
    {
     "data": {
      "application/javascript": [
       "parent.postMessage({\"jupyterEvent\": \"custom.exercise_interaction\", \"data\": {\"interactionType\": 3, \"questionType\": 4, \"questionId\": \"2.2_Q2T\", \"learnToolsVersion\": \"0.3.4\", \"valueTowardsCompletion\": 0.0, \"failureMessage\": \"\", \"exceptionClass\": \"\", \"trace\": \"\", \"outcomeType\": 4}}, \"*\")"
      ],
      "text/plain": [
       "<IPython.core.display.Javascript object>"
      ]
     },
     "metadata": {},
     "output_type": "display_data"
    },
    {
     "data": {
      "text/markdown": [
       "<span style=\"color:#33cc99\">Solution:</span> All five locations appear to be correct!"
      ],
      "text/plain": [
       "Solution: All five locations appear to be correct!"
      ]
     },
     "metadata": {},
     "output_type": "display_data"
    }
   ],
   "source": [
    "# View the solution (Run this code cell to receive credit!)\n",
    "q_2.b.solution()"
   ]
  },
  {
   "cell_type": "markdown",
   "id": "7b1ce410",
   "metadata": {
    "papermill": {
     "duration": 0.012372,
     "end_time": "2024-08-31T10:30:30.674891",
     "exception": false,
     "start_time": "2024-08-31T10:30:30.662519",
     "status": "completed"
    },
    "tags": []
   },
   "source": [
    "### 3) Consolidate your data.\n",
    "\n",
    "Run the code below to load a GeoDataFrame `CA_counties` containing the name, area (in square kilometers), and a unique id (in the \"GEOID\" column) for each county in the state of California.  The \"geometry\" column contains a polygon with county boundaries."
   ]
  },
  {
   "cell_type": "code",
   "execution_count": 12,
   "id": "b8aa7b0b",
   "metadata": {
    "execution": {
     "iopub.execute_input": "2024-08-31T10:30:30.701303Z",
     "iopub.status.busy": "2024-08-31T10:30:30.700883Z",
     "iopub.status.idle": "2024-08-31T10:30:30.947405Z",
     "shell.execute_reply": "2024-08-31T10:30:30.946177Z"
    },
    "papermill": {
     "duration": 0.263271,
     "end_time": "2024-08-31T10:30:30.950337",
     "exception": false,
     "start_time": "2024-08-31T10:30:30.687066",
     "status": "completed"
    },
    "tags": []
   },
   "outputs": [
    {
     "name": "stderr",
     "output_type": "stream",
     "text": [
      "/opt/conda/lib/python3.10/site-packages/pyproj/crs/crs.py:141: FutureWarning: '+init=<authority>:<code>' syntax is deprecated. '<authority>:<code>' is the preferred initialization method. When making the change, be mindful of axis order changes: https://pyproj4.github.io/pyproj/stable/gotchas.html#axis-order-changes-in-proj-6\n",
      "  in_crs_string = _prepare_from_proj_string(in_crs_string)\n"
     ]
    },
    {
     "data": {
      "text/html": [
       "<div>\n",
       "<style scoped>\n",
       "    .dataframe tbody tr th:only-of-type {\n",
       "        vertical-align: middle;\n",
       "    }\n",
       "\n",
       "    .dataframe tbody tr th {\n",
       "        vertical-align: top;\n",
       "    }\n",
       "\n",
       "    .dataframe thead th {\n",
       "        text-align: right;\n",
       "    }\n",
       "</style>\n",
       "<table border=\"1\" class=\"dataframe\">\n",
       "  <thead>\n",
       "    <tr style=\"text-align: right;\">\n",
       "      <th></th>\n",
       "      <th>GEOID</th>\n",
       "      <th>name</th>\n",
       "      <th>area_sqkm</th>\n",
       "      <th>geometry</th>\n",
       "    </tr>\n",
       "  </thead>\n",
       "  <tbody>\n",
       "    <tr>\n",
       "      <th>0</th>\n",
       "      <td>6091</td>\n",
       "      <td>Sierra County</td>\n",
       "      <td>2491.995494</td>\n",
       "      <td>POLYGON ((-120.65560 39.69357, -120.65554 39.6...</td>\n",
       "    </tr>\n",
       "    <tr>\n",
       "      <th>1</th>\n",
       "      <td>6067</td>\n",
       "      <td>Sacramento County</td>\n",
       "      <td>2575.258262</td>\n",
       "      <td>POLYGON ((-121.18858 38.71431, -121.18732 38.7...</td>\n",
       "    </tr>\n",
       "    <tr>\n",
       "      <th>2</th>\n",
       "      <td>6083</td>\n",
       "      <td>Santa Barbara County</td>\n",
       "      <td>9813.817958</td>\n",
       "      <td>MULTIPOLYGON (((-120.58191 34.09856, -120.5822...</td>\n",
       "    </tr>\n",
       "    <tr>\n",
       "      <th>3</th>\n",
       "      <td>6009</td>\n",
       "      <td>Calaveras County</td>\n",
       "      <td>2685.626726</td>\n",
       "      <td>POLYGON ((-120.63095 38.34111, -120.63058 38.3...</td>\n",
       "    </tr>\n",
       "    <tr>\n",
       "      <th>4</th>\n",
       "      <td>6111</td>\n",
       "      <td>Ventura County</td>\n",
       "      <td>5719.321379</td>\n",
       "      <td>MULTIPOLYGON (((-119.63631 33.27304, -119.6360...</td>\n",
       "    </tr>\n",
       "  </tbody>\n",
       "</table>\n",
       "</div>"
      ],
      "text/plain": [
       "   GEOID                  name    area_sqkm  \\\n",
       "0   6091         Sierra County  2491.995494   \n",
       "1   6067     Sacramento County  2575.258262   \n",
       "2   6083  Santa Barbara County  9813.817958   \n",
       "3   6009      Calaveras County  2685.626726   \n",
       "4   6111        Ventura County  5719.321379   \n",
       "\n",
       "                                            geometry  \n",
       "0  POLYGON ((-120.65560 39.69357, -120.65554 39.6...  \n",
       "1  POLYGON ((-121.18858 38.71431, -121.18732 38.7...  \n",
       "2  MULTIPOLYGON (((-120.58191 34.09856, -120.5822...  \n",
       "3  POLYGON ((-120.63095 38.34111, -120.63058 38.3...  \n",
       "4  MULTIPOLYGON (((-119.63631 33.27304, -119.6360...  "
      ]
     },
     "execution_count": 12,
     "metadata": {},
     "output_type": "execute_result"
    }
   ],
   "source": [
    "CA_counties = gpd.read_file(\"../input/geospatial-learn-course-data/CA_county_boundaries/CA_county_boundaries/CA_county_boundaries.shp\")\n",
    "CA_counties.crs = {'init': 'epsg:4326'}\n",
    "CA_counties.head()"
   ]
  },
  {
   "cell_type": "markdown",
   "id": "47ab2c37",
   "metadata": {
    "papermill": {
     "duration": 0.012864,
     "end_time": "2024-08-31T10:30:30.976642",
     "exception": false,
     "start_time": "2024-08-31T10:30:30.963778",
     "status": "completed"
    },
    "tags": []
   },
   "source": [
    "Next, we create three DataFrames:\n",
    "- `CA_pop` contains an estimate of the population of each county.\n",
    "- `CA_high_earners` contains the number of households with an income of at least $150,000 per year.\n",
    "- `CA_median_age` contains the median age for each county."
   ]
  },
  {
   "cell_type": "code",
   "execution_count": 13,
   "id": "ede0132f",
   "metadata": {
    "execution": {
     "iopub.execute_input": "2024-08-31T10:30:31.004434Z",
     "iopub.status.busy": "2024-08-31T10:30:31.004001Z",
     "iopub.status.idle": "2024-08-31T10:30:31.017759Z",
     "shell.execute_reply": "2024-08-31T10:30:31.016498Z"
    },
    "papermill": {
     "duration": 0.030512,
     "end_time": "2024-08-31T10:30:31.020621",
     "exception": false,
     "start_time": "2024-08-31T10:30:30.990109",
     "status": "completed"
    },
    "tags": []
   },
   "outputs": [],
   "source": [
    "CA_pop = pd.read_csv(\"../input/geospatial-learn-course-data/CA_county_population.csv\", index_col=\"GEOID\")\n",
    "CA_high_earners = pd.read_csv(\"../input/geospatial-learn-course-data/CA_county_high_earners.csv\", index_col=\"GEOID\")\n",
    "CA_median_age = pd.read_csv(\"../input/geospatial-learn-course-data/CA_county_median_age.csv\", index_col=\"GEOID\")"
   ]
  },
  {
   "cell_type": "code",
   "execution_count": 14,
   "id": "d98832b2",
   "metadata": {
    "execution": {
     "iopub.execute_input": "2024-08-31T10:30:31.048335Z",
     "iopub.status.busy": "2024-08-31T10:30:31.047927Z",
     "iopub.status.idle": "2024-08-31T10:30:31.057912Z",
     "shell.execute_reply": "2024-08-31T10:30:31.056806Z"
    },
    "papermill": {
     "duration": 0.026978,
     "end_time": "2024-08-31T10:30:31.060441",
     "exception": false,
     "start_time": "2024-08-31T10:30:31.033463",
     "status": "completed"
    },
    "tags": []
   },
   "outputs": [
    {
     "data": {
      "text/html": [
       "<div>\n",
       "<style scoped>\n",
       "    .dataframe tbody tr th:only-of-type {\n",
       "        vertical-align: middle;\n",
       "    }\n",
       "\n",
       "    .dataframe tbody tr th {\n",
       "        vertical-align: top;\n",
       "    }\n",
       "\n",
       "    .dataframe thead th {\n",
       "        text-align: right;\n",
       "    }\n",
       "</style>\n",
       "<table border=\"1\" class=\"dataframe\">\n",
       "  <thead>\n",
       "    <tr style=\"text-align: right;\">\n",
       "      <th></th>\n",
       "      <th>population</th>\n",
       "    </tr>\n",
       "    <tr>\n",
       "      <th>GEOID</th>\n",
       "      <th></th>\n",
       "    </tr>\n",
       "  </thead>\n",
       "  <tbody>\n",
       "    <tr>\n",
       "      <th>6001</th>\n",
       "      <td>1666753</td>\n",
       "    </tr>\n",
       "    <tr>\n",
       "      <th>6003</th>\n",
       "      <td>1101</td>\n",
       "    </tr>\n",
       "    <tr>\n",
       "      <th>6005</th>\n",
       "      <td>39383</td>\n",
       "    </tr>\n",
       "  </tbody>\n",
       "</table>\n",
       "</div>"
      ],
      "text/plain": [
       "       population\n",
       "GEOID            \n",
       "6001      1666753\n",
       "6003         1101\n",
       "6005        39383"
      ]
     },
     "execution_count": 14,
     "metadata": {},
     "output_type": "execute_result"
    }
   ],
   "source": [
    "CA_pop.head(3)"
   ]
  },
  {
   "cell_type": "code",
   "execution_count": 15,
   "id": "ff2dd4c3",
   "metadata": {
    "execution": {
     "iopub.execute_input": "2024-08-31T10:30:31.089311Z",
     "iopub.status.busy": "2024-08-31T10:30:31.088888Z",
     "iopub.status.idle": "2024-08-31T10:30:31.098655Z",
     "shell.execute_reply": "2024-08-31T10:30:31.097519Z"
    },
    "papermill": {
     "duration": 0.027171,
     "end_time": "2024-08-31T10:30:31.101059",
     "exception": false,
     "start_time": "2024-08-31T10:30:31.073888",
     "status": "completed"
    },
    "tags": []
   },
   "outputs": [
    {
     "data": {
      "text/html": [
       "<div>\n",
       "<style scoped>\n",
       "    .dataframe tbody tr th:only-of-type {\n",
       "        vertical-align: middle;\n",
       "    }\n",
       "\n",
       "    .dataframe tbody tr th {\n",
       "        vertical-align: top;\n",
       "    }\n",
       "\n",
       "    .dataframe thead th {\n",
       "        text-align: right;\n",
       "    }\n",
       "</style>\n",
       "<table border=\"1\" class=\"dataframe\">\n",
       "  <thead>\n",
       "    <tr style=\"text-align: right;\">\n",
       "      <th></th>\n",
       "      <th>high_earners</th>\n",
       "    </tr>\n",
       "    <tr>\n",
       "      <th>GEOID</th>\n",
       "      <th></th>\n",
       "    </tr>\n",
       "  </thead>\n",
       "  <tbody>\n",
       "    <tr>\n",
       "      <th>6001</th>\n",
       "      <td>145696</td>\n",
       "    </tr>\n",
       "    <tr>\n",
       "      <th>6003</th>\n",
       "      <td>30</td>\n",
       "    </tr>\n",
       "    <tr>\n",
       "      <th>6005</th>\n",
       "      <td>1220</td>\n",
       "    </tr>\n",
       "  </tbody>\n",
       "</table>\n",
       "</div>"
      ],
      "text/plain": [
       "       high_earners\n",
       "GEOID              \n",
       "6001         145696\n",
       "6003             30\n",
       "6005           1220"
      ]
     },
     "execution_count": 15,
     "metadata": {},
     "output_type": "execute_result"
    }
   ],
   "source": [
    "CA_high_earners.head(3)"
   ]
  },
  {
   "cell_type": "code",
   "execution_count": 16,
   "id": "27ba09d6",
   "metadata": {
    "execution": {
     "iopub.execute_input": "2024-08-31T10:30:31.130008Z",
     "iopub.status.busy": "2024-08-31T10:30:31.129573Z",
     "iopub.status.idle": "2024-08-31T10:30:31.140035Z",
     "shell.execute_reply": "2024-08-31T10:30:31.138863Z"
    },
    "papermill": {
     "duration": 0.027484,
     "end_time": "2024-08-31T10:30:31.142412",
     "exception": false,
     "start_time": "2024-08-31T10:30:31.114928",
     "status": "completed"
    },
    "tags": []
   },
   "outputs": [
    {
     "data": {
      "text/html": [
       "<div>\n",
       "<style scoped>\n",
       "    .dataframe tbody tr th:only-of-type {\n",
       "        vertical-align: middle;\n",
       "    }\n",
       "\n",
       "    .dataframe tbody tr th {\n",
       "        vertical-align: top;\n",
       "    }\n",
       "\n",
       "    .dataframe thead th {\n",
       "        text-align: right;\n",
       "    }\n",
       "</style>\n",
       "<table border=\"1\" class=\"dataframe\">\n",
       "  <thead>\n",
       "    <tr style=\"text-align: right;\">\n",
       "      <th></th>\n",
       "      <th>median_age</th>\n",
       "    </tr>\n",
       "    <tr>\n",
       "      <th>GEOID</th>\n",
       "      <th></th>\n",
       "    </tr>\n",
       "  </thead>\n",
       "  <tbody>\n",
       "    <tr>\n",
       "      <th>6001</th>\n",
       "      <td>37.3</td>\n",
       "    </tr>\n",
       "    <tr>\n",
       "      <th>6003</th>\n",
       "      <td>44.9</td>\n",
       "    </tr>\n",
       "    <tr>\n",
       "      <th>6005</th>\n",
       "      <td>50.6</td>\n",
       "    </tr>\n",
       "  </tbody>\n",
       "</table>\n",
       "</div>"
      ],
      "text/plain": [
       "       median_age\n",
       "GEOID            \n",
       "6001         37.3\n",
       "6003         44.9\n",
       "6005         50.6"
      ]
     },
     "execution_count": 16,
     "metadata": {},
     "output_type": "execute_result"
    }
   ],
   "source": [
    "CA_median_age.head(3)"
   ]
  },
  {
   "cell_type": "markdown",
   "id": "a8d9d81f",
   "metadata": {
    "papermill": {
     "duration": 0.012974,
     "end_time": "2024-08-31T10:30:31.168513",
     "exception": false,
     "start_time": "2024-08-31T10:30:31.155539",
     "status": "completed"
    },
    "tags": []
   },
   "source": [
    "Use the next code cell to join the `CA_counties` GeoDataFrame with `CA_pop`, `CA_high_earners`, and `CA_median_age`.\n",
    "\n",
    "Name the resultant GeoDataFrame `CA_stats`, and make sure it has 8 columns: \"GEOID\", \"name\", \"area_sqkm\", \"geometry\", \"population\", \"high_earners\", and \"median_age\".  "
   ]
  },
  {
   "cell_type": "code",
   "execution_count": 17,
   "id": "d39c62cf",
   "metadata": {
    "execution": {
     "iopub.execute_input": "2024-08-31T10:30:31.198031Z",
     "iopub.status.busy": "2024-08-31T10:30:31.197603Z",
     "iopub.status.idle": "2024-08-31T10:30:31.326263Z",
     "shell.execute_reply": "2024-08-31T10:30:31.325218Z"
    },
    "papermill": {
     "duration": 0.14643,
     "end_time": "2024-08-31T10:30:31.328769",
     "exception": false,
     "start_time": "2024-08-31T10:30:31.182339",
     "status": "completed"
    },
    "tags": []
   },
   "outputs": [
    {
     "data": {
      "application/javascript": [
       "parent.postMessage({\"jupyterEvent\": \"custom.exercise_interaction\", \"data\": {\"outcomeType\": 1, \"valueTowardsCompletion\": 0.2, \"interactionType\": 1, \"questionType\": 2, \"questionId\": \"3_Q3\", \"learnToolsVersion\": \"0.3.4\", \"failureMessage\": \"\", \"exceptionClass\": \"\", \"trace\": \"\"}}, \"*\")"
      ],
      "text/plain": [
       "<IPython.core.display.Javascript object>"
      ]
     },
     "metadata": {},
     "output_type": "display_data"
    },
    {
     "data": {
      "text/markdown": [
       "<span style=\"color:#33cc33\">Correct</span>"
      ],
      "text/plain": [
       "Correct"
      ]
     },
     "metadata": {},
     "output_type": "display_data"
    }
   ],
   "source": [
    "# Your code here\n",
    "cols_to_add = CA_pop.join([CA_high_earners, CA_median_age]).reset_index()\n",
    "CA_stats = CA_counties.merge(cols_to_add, on='GEOID')\n",
    "\n",
    "# Check your answer\n",
    "q_3.check()"
   ]
  },
  {
   "cell_type": "code",
   "execution_count": 18,
   "id": "325a00ca",
   "metadata": {
    "execution": {
     "iopub.execute_input": "2024-08-31T10:30:31.359557Z",
     "iopub.status.busy": "2024-08-31T10:30:31.358734Z",
     "iopub.status.idle": "2024-08-31T10:30:31.486198Z",
     "shell.execute_reply": "2024-08-31T10:30:31.485016Z"
    },
    "papermill": {
     "duration": 0.145658,
     "end_time": "2024-08-31T10:30:31.488669",
     "exception": false,
     "start_time": "2024-08-31T10:30:31.343011",
     "status": "completed"
    },
    "tags": []
   },
   "outputs": [
    {
     "data": {
      "text/html": [
       "<div>\n",
       "<style scoped>\n",
       "    .dataframe tbody tr th:only-of-type {\n",
       "        vertical-align: middle;\n",
       "    }\n",
       "\n",
       "    .dataframe tbody tr th {\n",
       "        vertical-align: top;\n",
       "    }\n",
       "\n",
       "    .dataframe thead th {\n",
       "        text-align: right;\n",
       "    }\n",
       "</style>\n",
       "<table border=\"1\" class=\"dataframe\">\n",
       "  <thead>\n",
       "    <tr style=\"text-align: right;\">\n",
       "      <th></th>\n",
       "      <th>GEOID</th>\n",
       "      <th>name</th>\n",
       "      <th>area_sqkm</th>\n",
       "      <th>geometry</th>\n",
       "      <th>population</th>\n",
       "      <th>high_earners</th>\n",
       "      <th>median_age</th>\n",
       "    </tr>\n",
       "  </thead>\n",
       "  <tbody>\n",
       "    <tr>\n",
       "      <th>0</th>\n",
       "      <td>6091</td>\n",
       "      <td>Sierra County</td>\n",
       "      <td>2491.995494</td>\n",
       "      <td>POLYGON ((-120.65560 39.69357, -120.65554 39.6...</td>\n",
       "      <td>2987</td>\n",
       "      <td>111</td>\n",
       "      <td>55.0</td>\n",
       "    </tr>\n",
       "    <tr>\n",
       "      <th>1</th>\n",
       "      <td>6067</td>\n",
       "      <td>Sacramento County</td>\n",
       "      <td>2575.258262</td>\n",
       "      <td>POLYGON ((-121.18858 38.71431, -121.18732 38.7...</td>\n",
       "      <td>1540975</td>\n",
       "      <td>65768</td>\n",
       "      <td>35.9</td>\n",
       "    </tr>\n",
       "    <tr>\n",
       "      <th>2</th>\n",
       "      <td>6083</td>\n",
       "      <td>Santa Barbara County</td>\n",
       "      <td>9813.817958</td>\n",
       "      <td>MULTIPOLYGON (((-120.58191 34.09856, -120.5822...</td>\n",
       "      <td>446527</td>\n",
       "      <td>25231</td>\n",
       "      <td>33.7</td>\n",
       "    </tr>\n",
       "    <tr>\n",
       "      <th>3</th>\n",
       "      <td>6009</td>\n",
       "      <td>Calaveras County</td>\n",
       "      <td>2685.626726</td>\n",
       "      <td>POLYGON ((-120.63095 38.34111, -120.63058 38.3...</td>\n",
       "      <td>45602</td>\n",
       "      <td>2046</td>\n",
       "      <td>51.6</td>\n",
       "    </tr>\n",
       "    <tr>\n",
       "      <th>4</th>\n",
       "      <td>6111</td>\n",
       "      <td>Ventura County</td>\n",
       "      <td>5719.321379</td>\n",
       "      <td>MULTIPOLYGON (((-119.63631 33.27304, -119.6360...</td>\n",
       "      <td>850967</td>\n",
       "      <td>57121</td>\n",
       "      <td>37.5</td>\n",
       "    </tr>\n",
       "  </tbody>\n",
       "</table>\n",
       "</div>"
      ],
      "text/plain": [
       "   GEOID                  name    area_sqkm  \\\n",
       "0   6091         Sierra County  2491.995494   \n",
       "1   6067     Sacramento County  2575.258262   \n",
       "2   6083  Santa Barbara County  9813.817958   \n",
       "3   6009      Calaveras County  2685.626726   \n",
       "4   6111        Ventura County  5719.321379   \n",
       "\n",
       "                                            geometry  population  \\\n",
       "0  POLYGON ((-120.65560 39.69357, -120.65554 39.6...        2987   \n",
       "1  POLYGON ((-121.18858 38.71431, -121.18732 38.7...     1540975   \n",
       "2  MULTIPOLYGON (((-120.58191 34.09856, -120.5822...      446527   \n",
       "3  POLYGON ((-120.63095 38.34111, -120.63058 38.3...       45602   \n",
       "4  MULTIPOLYGON (((-119.63631 33.27304, -119.6360...      850967   \n",
       "\n",
       "   high_earners  median_age  \n",
       "0           111        55.0  \n",
       "1         65768        35.9  \n",
       "2         25231        33.7  \n",
       "3          2046        51.6  \n",
       "4         57121        37.5  "
      ]
     },
     "execution_count": 18,
     "metadata": {},
     "output_type": "execute_result"
    }
   ],
   "source": [
    "CA_stats.head()"
   ]
  },
  {
   "cell_type": "code",
   "execution_count": 19,
   "id": "a959b74b",
   "metadata": {
    "execution": {
     "iopub.execute_input": "2024-08-31T10:30:31.518480Z",
     "iopub.status.busy": "2024-08-31T10:30:31.518076Z",
     "iopub.status.idle": "2024-08-31T10:30:31.532011Z",
     "shell.execute_reply": "2024-08-31T10:30:31.530865Z"
    },
    "papermill": {
     "duration": 0.032126,
     "end_time": "2024-08-31T10:30:31.534297",
     "exception": false,
     "start_time": "2024-08-31T10:30:31.502171",
     "status": "completed"
    },
    "tags": []
   },
   "outputs": [
    {
     "data": {
      "application/javascript": [
       "parent.postMessage({\"jupyterEvent\": \"custom.exercise_interaction\", \"data\": {\"interactionType\": 2, \"questionType\": 2, \"questionId\": \"3_Q3\", \"learnToolsVersion\": \"0.3.4\", \"valueTowardsCompletion\": 0.0, \"failureMessage\": \"\", \"exceptionClass\": \"\", \"trace\": \"\", \"outcomeType\": 4}}, \"*\")"
      ],
      "text/plain": [
       "<IPython.core.display.Javascript object>"
      ]
     },
     "metadata": {},
     "output_type": "display_data"
    },
    {
     "data": {
      "text/markdown": [
       "<span style=\"color:#3366cc\">Hint:</span> Begin by using [`pd.DataFrame.join()`](https://www.kaggle.com/residentmario/renaming-and-combining)to join the three DataFrames together.  Then, add this new DataFrame to the `CA_counties`GeoDataFrame with `gpd.GeoDataFrame.merge()`."
      ],
      "text/plain": [
       "Hint: Begin by using [`pd.DataFrame.join()`](https://www.kaggle.com/residentmario/renaming-and-combining)to join the three DataFrames together.  Then, add this new DataFrame to the `CA_counties`GeoDataFrame with `gpd.GeoDataFrame.merge()`."
      ]
     },
     "metadata": {},
     "output_type": "display_data"
    },
    {
     "data": {
      "application/javascript": [
       "parent.postMessage({\"jupyterEvent\": \"custom.exercise_interaction\", \"data\": {\"interactionType\": 3, \"questionType\": 2, \"questionId\": \"3_Q3\", \"learnToolsVersion\": \"0.3.4\", \"valueTowardsCompletion\": 0.0, \"failureMessage\": \"\", \"exceptionClass\": \"\", \"trace\": \"\", \"outcomeType\": 4}}, \"*\")"
      ],
      "text/plain": [
       "<IPython.core.display.Javascript object>"
      ]
     },
     "metadata": {},
     "output_type": "display_data"
    },
    {
     "data": {
      "text/markdown": [
       "<span style=\"color:#33cc99\">Solution:</span> \n",
       "```python\n",
       "cols_to_add = CA_pop.join([CA_high_earners, CA_median_age]).reset_index()\n",
       "CA_stats = CA_counties.merge(cols_to_add, on=\"GEOID\")\n",
       "\n",
       "```"
      ],
      "text/plain": [
       "Solution: \n",
       "```python\n",
       "cols_to_add = CA_pop.join([CA_high_earners, CA_median_age]).reset_index()\n",
       "CA_stats = CA_counties.merge(cols_to_add, on=\"GEOID\")\n",
       "\n",
       "```"
      ]
     },
     "metadata": {},
     "output_type": "display_data"
    }
   ],
   "source": [
    "# Lines below will give you a hint or solution code\n",
    "q_3.hint()\n",
    "q_3.solution()"
   ]
  },
  {
   "cell_type": "markdown",
   "id": "a7cd4d8b",
   "metadata": {
    "papermill": {
     "duration": 0.015644,
     "end_time": "2024-08-31T10:30:31.565537",
     "exception": false,
     "start_time": "2024-08-31T10:30:31.549893",
     "status": "completed"
    },
    "tags": []
   },
   "source": [
    "Now that we have all of the data in one place, it's much easier to calculate statistics that use a combination of columns.  Run the next code cell to create a \"density\" column with the population density."
   ]
  },
  {
   "cell_type": "code",
   "execution_count": 20,
   "id": "e0f3d023",
   "metadata": {
    "execution": {
     "iopub.execute_input": "2024-08-31T10:30:31.598004Z",
     "iopub.status.busy": "2024-08-31T10:30:31.597563Z",
     "iopub.status.idle": "2024-08-31T10:30:31.604726Z",
     "shell.execute_reply": "2024-08-31T10:30:31.603578Z"
    },
    "papermill": {
     "duration": 0.026362,
     "end_time": "2024-08-31T10:30:31.607009",
     "exception": false,
     "start_time": "2024-08-31T10:30:31.580647",
     "status": "completed"
    },
    "tags": []
   },
   "outputs": [],
   "source": [
    "CA_stats[\"density\"] = CA_stats[\"population\"] / CA_stats[\"area_sqkm\"]"
   ]
  },
  {
   "cell_type": "code",
   "execution_count": 21,
   "id": "24821b6d",
   "metadata": {
    "execution": {
     "iopub.execute_input": "2024-08-31T10:30:31.637644Z",
     "iopub.status.busy": "2024-08-31T10:30:31.637233Z",
     "iopub.status.idle": "2024-08-31T10:30:31.645876Z",
     "shell.execute_reply": "2024-08-31T10:30:31.644624Z"
    },
    "papermill": {
     "duration": 0.026827,
     "end_time": "2024-08-31T10:30:31.648144",
     "exception": false,
     "start_time": "2024-08-31T10:30:31.621317",
     "status": "completed"
    },
    "tags": []
   },
   "outputs": [
    {
     "data": {
      "text/plain": [
       "0      1.198638\n",
       "1    598.376878\n",
       "2     45.499825\n",
       "3     16.980022\n",
       "4    148.788107\n",
       "Name: density, dtype: float64"
      ]
     },
     "execution_count": 21,
     "metadata": {},
     "output_type": "execute_result"
    }
   ],
   "source": [
    "CA_stats[\"density\"].head()"
   ]
  },
  {
   "cell_type": "markdown",
   "id": "2a845e77",
   "metadata": {
    "papermill": {
     "duration": 0.014557,
     "end_time": "2024-08-31T10:30:31.678034",
     "exception": false,
     "start_time": "2024-08-31T10:30:31.663477",
     "status": "completed"
    },
    "tags": []
   },
   "source": [
    "### 4) Which counties look promising?\n",
    "\n",
    "Collapsing all of the information into a single GeoDataFrame also makes it much easier to select counties that meet specific criteria.\n",
    "\n",
    "Use the next code cell to create a GeoDataFrame `sel_counties` that contains a subset of the rows (and all of the columns) from the `CA_stats` GeoDataFrame.  In particular, you should select counties where:\n",
    "- there are at least 100,000 households making \\$150,000 per year,\n",
    "- the median age is less than 38.5, and\n",
    "- the density of inhabitants is at least 285 (per square kilometer).\n",
    "\n",
    "Additionally, selected counties should satisfy at least one of the following criteria:\n",
    "- there are at least 500,000 households making \\$150,000 per year,\n",
    "- the median age is less than 35.5, or\n",
    "- the density of inhabitants is at least 1400 (per square kilometer)."
   ]
  },
  {
   "cell_type": "code",
   "execution_count": 22,
   "id": "df98a1ae",
   "metadata": {
    "execution": {
     "iopub.execute_input": "2024-08-31T10:30:31.709205Z",
     "iopub.status.busy": "2024-08-31T10:30:31.708789Z",
     "iopub.status.idle": "2024-08-31T10:30:31.725314Z",
     "shell.execute_reply": "2024-08-31T10:30:31.724023Z"
    },
    "papermill": {
     "duration": 0.034428,
     "end_time": "2024-08-31T10:30:31.727619",
     "exception": false,
     "start_time": "2024-08-31T10:30:31.693191",
     "status": "completed"
    },
    "tags": []
   },
   "outputs": [
    {
     "data": {
      "application/javascript": [
       "parent.postMessage({\"jupyterEvent\": \"custom.exercise_interaction\", \"data\": {\"outcomeType\": 1, \"valueTowardsCompletion\": 0.2, \"interactionType\": 1, \"questionType\": 2, \"questionId\": \"4_Q4\", \"learnToolsVersion\": \"0.3.4\", \"failureMessage\": \"\", \"exceptionClass\": \"\", \"trace\": \"\"}}, \"*\")"
      ],
      "text/plain": [
       "<IPython.core.display.Javascript object>"
      ]
     },
     "metadata": {},
     "output_type": "display_data"
    },
    {
     "data": {
      "text/markdown": [
       "<span style=\"color:#33cc33\">Correct</span>"
      ],
      "text/plain": [
       "Correct"
      ]
     },
     "metadata": {},
     "output_type": "display_data"
    }
   ],
   "source": [
    "# Your code here\n",
    "sel_counties = CA_stats[((CA_stats.high_earners > 100000) &\n",
    "                        (CA_stats.median_age < 38.5) &\n",
    "                        (CA_stats.density > 285) &\n",
    "                        ((CA_stats.median_age < 35.5) |\n",
    "                        (CA_stats.density > 1400) |\n",
    "                        (CA_stats.high_earners > 500000)))]\n",
    "\n",
    "# Check your answer\n",
    "q_4.check()"
   ]
  },
  {
   "cell_type": "code",
   "execution_count": 23,
   "id": "da5a3e8d",
   "metadata": {
    "execution": {
     "iopub.execute_input": "2024-08-31T10:30:31.759820Z",
     "iopub.status.busy": "2024-08-31T10:30:31.759381Z",
     "iopub.status.idle": "2024-08-31T10:30:31.814332Z",
     "shell.execute_reply": "2024-08-31T10:30:31.813119Z"
    },
    "papermill": {
     "duration": 0.07431,
     "end_time": "2024-08-31T10:30:31.816853",
     "exception": false,
     "start_time": "2024-08-31T10:30:31.742543",
     "status": "completed"
    },
    "tags": []
   },
   "outputs": [
    {
     "data": {
      "text/html": [
       "<div>\n",
       "<style scoped>\n",
       "    .dataframe tbody tr th:only-of-type {\n",
       "        vertical-align: middle;\n",
       "    }\n",
       "\n",
       "    .dataframe tbody tr th {\n",
       "        vertical-align: top;\n",
       "    }\n",
       "\n",
       "    .dataframe thead th {\n",
       "        text-align: right;\n",
       "    }\n",
       "</style>\n",
       "<table border=\"1\" class=\"dataframe\">\n",
       "  <thead>\n",
       "    <tr style=\"text-align: right;\">\n",
       "      <th></th>\n",
       "      <th>GEOID</th>\n",
       "      <th>name</th>\n",
       "      <th>area_sqkm</th>\n",
       "      <th>geometry</th>\n",
       "      <th>population</th>\n",
       "      <th>high_earners</th>\n",
       "      <th>median_age</th>\n",
       "      <th>density</th>\n",
       "    </tr>\n",
       "  </thead>\n",
       "  <tbody>\n",
       "    <tr>\n",
       "      <th>5</th>\n",
       "      <td>6037</td>\n",
       "      <td>Los Angeles County</td>\n",
       "      <td>12305.376879</td>\n",
       "      <td>MULTIPOLYGON (((-118.66761 33.47749, -118.6682...</td>\n",
       "      <td>10105518</td>\n",
       "      <td>501413</td>\n",
       "      <td>36.0</td>\n",
       "      <td>821.227834</td>\n",
       "    </tr>\n",
       "    <tr>\n",
       "      <th>8</th>\n",
       "      <td>6073</td>\n",
       "      <td>San Diego County</td>\n",
       "      <td>11721.342229</td>\n",
       "      <td>POLYGON ((-117.43744 33.17953, -117.44955 33.1...</td>\n",
       "      <td>3343364</td>\n",
       "      <td>194676</td>\n",
       "      <td>35.4</td>\n",
       "      <td>285.237299</td>\n",
       "    </tr>\n",
       "    <tr>\n",
       "      <th>10</th>\n",
       "      <td>6075</td>\n",
       "      <td>San Francisco County</td>\n",
       "      <td>600.588247</td>\n",
       "      <td>MULTIPOLYGON (((-122.60025 37.80249, -122.6123...</td>\n",
       "      <td>883305</td>\n",
       "      <td>114989</td>\n",
       "      <td>38.3</td>\n",
       "      <td>1470.733077</td>\n",
       "    </tr>\n",
       "  </tbody>\n",
       "</table>\n",
       "</div>"
      ],
      "text/plain": [
       "    GEOID                  name     area_sqkm  \\\n",
       "5    6037    Los Angeles County  12305.376879   \n",
       "8    6073      San Diego County  11721.342229   \n",
       "10   6075  San Francisco County    600.588247   \n",
       "\n",
       "                                             geometry  population  \\\n",
       "5   MULTIPOLYGON (((-118.66761 33.47749, -118.6682...    10105518   \n",
       "8   POLYGON ((-117.43744 33.17953, -117.44955 33.1...     3343364   \n",
       "10  MULTIPOLYGON (((-122.60025 37.80249, -122.6123...      883305   \n",
       "\n",
       "    high_earners  median_age      density  \n",
       "5         501413        36.0   821.227834  \n",
       "8         194676        35.4   285.237299  \n",
       "10        114989        38.3  1470.733077  "
      ]
     },
     "execution_count": 23,
     "metadata": {},
     "output_type": "execute_result"
    }
   ],
   "source": [
    "sel_counties"
   ]
  },
  {
   "cell_type": "code",
   "execution_count": 24,
   "id": "c72a8ad9",
   "metadata": {
    "execution": {
     "iopub.execute_input": "2024-08-31T10:30:31.849461Z",
     "iopub.status.busy": "2024-08-31T10:30:31.849074Z",
     "iopub.status.idle": "2024-08-31T10:30:31.862138Z",
     "shell.execute_reply": "2024-08-31T10:30:31.861080Z"
    },
    "papermill": {
     "duration": 0.032097,
     "end_time": "2024-08-31T10:30:31.864431",
     "exception": false,
     "start_time": "2024-08-31T10:30:31.832334",
     "status": "completed"
    },
    "tags": []
   },
   "outputs": [
    {
     "data": {
      "application/javascript": [
       "parent.postMessage({\"jupyterEvent\": \"custom.exercise_interaction\", \"data\": {\"interactionType\": 2, \"questionType\": 2, \"questionId\": \"4_Q4\", \"learnToolsVersion\": \"0.3.4\", \"valueTowardsCompletion\": 0.0, \"failureMessage\": \"\", \"exceptionClass\": \"\", \"trace\": \"\", \"outcomeType\": 4}}, \"*\")"
      ],
      "text/plain": [
       "<IPython.core.display.Javascript object>"
      ]
     },
     "metadata": {},
     "output_type": "display_data"
    },
    {
     "data": {
      "text/markdown": [
       "<span style=\"color:#3366cc\">Hint:</span> Review conditional selection [here](https://www.kaggle.com/residentmario/indexing-selecting-assigning/)."
      ],
      "text/plain": [
       "Hint: Review conditional selection [here](https://www.kaggle.com/residentmario/indexing-selecting-assigning/)."
      ]
     },
     "metadata": {},
     "output_type": "display_data"
    },
    {
     "data": {
      "application/javascript": [
       "parent.postMessage({\"jupyterEvent\": \"custom.exercise_interaction\", \"data\": {\"interactionType\": 3, \"questionType\": 2, \"questionId\": \"4_Q4\", \"learnToolsVersion\": \"0.3.4\", \"valueTowardsCompletion\": 0.0, \"failureMessage\": \"\", \"exceptionClass\": \"\", \"trace\": \"\", \"outcomeType\": 4}}, \"*\")"
      ],
      "text/plain": [
       "<IPython.core.display.Javascript object>"
      ]
     },
     "metadata": {},
     "output_type": "display_data"
    },
    {
     "data": {
      "text/markdown": [
       "<span style=\"color:#33cc99\">Solution:</span> \n",
       "```python\n",
       "sel_counties = CA_stats[((CA_stats.high_earners > 100000) &\n",
       "                         (CA_stats.median_age < 38.5) &\n",
       "                         (CA_stats.density > 285) &\n",
       "                         ((CA_stats.median_age < 35.5) |\n",
       "                         (CA_stats.density > 1400) |\n",
       "                         (CA_stats.high_earners > 500000)))]\n",
       "\n",
       "```"
      ],
      "text/plain": [
       "Solution: \n",
       "```python\n",
       "sel_counties = CA_stats[((CA_stats.high_earners > 100000) &\n",
       "                         (CA_stats.median_age < 38.5) &\n",
       "                         (CA_stats.density > 285) &\n",
       "                         ((CA_stats.median_age < 35.5) |\n",
       "                         (CA_stats.density > 1400) |\n",
       "                         (CA_stats.high_earners > 500000)))]\n",
       "\n",
       "```"
      ]
     },
     "metadata": {},
     "output_type": "display_data"
    }
   ],
   "source": [
    "# Lines below will give you a hint or solution code\n",
    "q_4.hint()\n",
    "q_4.solution()"
   ]
  },
  {
   "cell_type": "markdown",
   "id": "07e4c7d7",
   "metadata": {
    "papermill": {
     "duration": 0.015026,
     "end_time": "2024-08-31T10:30:31.950441",
     "exception": false,
     "start_time": "2024-08-31T10:30:31.935415",
     "status": "completed"
    },
    "tags": []
   },
   "source": [
    "### 5) How many stores did you identify?\n",
    "\n",
    "When looking for the next Starbucks Reserve Roastery location, you'd like to consider all of the stores within the counties that you selected.  So, how many stores are within the selected counties?\n",
    "\n",
    "To prepare to answer this question, run the next code cell to create a GeoDataFrame `starbucks_gdf` with all of the starbucks locations."
   ]
  },
  {
   "cell_type": "code",
   "execution_count": 25,
   "id": "d0066f6e",
   "metadata": {
    "execution": {
     "iopub.execute_input": "2024-08-31T10:30:31.982201Z",
     "iopub.status.busy": "2024-08-31T10:30:31.981775Z",
     "iopub.status.idle": "2024-08-31T10:30:32.091305Z",
     "shell.execute_reply": "2024-08-31T10:30:32.089849Z"
    },
    "papermill": {
     "duration": 0.128497,
     "end_time": "2024-08-31T10:30:32.094120",
     "exception": false,
     "start_time": "2024-08-31T10:30:31.965623",
     "status": "completed"
    },
    "tags": []
   },
   "outputs": [
    {
     "name": "stderr",
     "output_type": "stream",
     "text": [
      "/opt/conda/lib/python3.10/site-packages/pyproj/crs/crs.py:141: FutureWarning: '+init=<authority>:<code>' syntax is deprecated. '<authority>:<code>' is the preferred initialization method. When making the change, be mindful of axis order changes: https://pyproj4.github.io/pyproj/stable/gotchas.html#axis-order-changes-in-proj-6\n",
      "  in_crs_string = _prepare_from_proj_string(in_crs_string)\n"
     ]
    }
   ],
   "source": [
    "starbucks_gdf = gpd.GeoDataFrame(starbucks, geometry=gpd.points_from_xy(starbucks.Longitude, starbucks.Latitude))\n",
    "starbucks_gdf.crs = {'init': 'epsg:4326'}"
   ]
  },
  {
   "cell_type": "markdown",
   "id": "71dc3f64",
   "metadata": {
    "papermill": {
     "duration": 0.01588,
     "end_time": "2024-08-31T10:30:32.126024",
     "exception": false,
     "start_time": "2024-08-31T10:30:32.110144",
     "status": "completed"
    },
    "tags": []
   },
   "source": [
    "So, how many stores are in the counties you selected?"
   ]
  },
  {
   "cell_type": "code",
   "execution_count": 26,
   "id": "68fca80e",
   "metadata": {
    "execution": {
     "iopub.execute_input": "2024-08-31T10:30:32.157936Z",
     "iopub.status.busy": "2024-08-31T10:30:32.157531Z",
     "iopub.status.idle": "2024-08-31T10:30:32.453268Z",
     "shell.execute_reply": "2024-08-31T10:30:32.452189Z"
    },
    "papermill": {
     "duration": 0.314438,
     "end_time": "2024-08-31T10:30:32.455674",
     "exception": false,
     "start_time": "2024-08-31T10:30:32.141236",
     "status": "completed"
    },
    "tags": []
   },
   "outputs": [
    {
     "data": {
      "application/javascript": [
       "parent.postMessage({\"jupyterEvent\": \"custom.exercise_interaction\", \"data\": {\"outcomeType\": 1, \"valueTowardsCompletion\": 0.2, \"interactionType\": 1, \"questionType\": 2, \"questionId\": \"5_Q5\", \"learnToolsVersion\": \"0.3.4\", \"failureMessage\": \"\", \"exceptionClass\": \"\", \"trace\": \"\"}}, \"*\")"
      ],
      "text/plain": [
       "<IPython.core.display.Javascript object>"
      ]
     },
     "metadata": {},
     "output_type": "display_data"
    },
    {
     "data": {
      "text/markdown": [
       "<span style=\"color:#33cc33\">Correct</span>"
      ],
      "text/plain": [
       "Correct"
      ]
     },
     "metadata": {},
     "output_type": "display_data"
    }
   ],
   "source": [
    "# Fill in your answer\n",
    "num_stores = locations_of_interest = gpd.sjoin(starbucks_gdf, sel_counties)\n",
    "num_stores = len(locations_of_interest)\n",
    "\n",
    "# Check your answer\n",
    "q_5.check()"
   ]
  },
  {
   "cell_type": "code",
   "execution_count": 27,
   "id": "0de0e828",
   "metadata": {
    "execution": {
     "iopub.execute_input": "2024-08-31T10:30:32.489267Z",
     "iopub.status.busy": "2024-08-31T10:30:32.488799Z",
     "iopub.status.idle": "2024-08-31T10:30:32.496043Z",
     "shell.execute_reply": "2024-08-31T10:30:32.494800Z"
    },
    "papermill": {
     "duration": 0.026887,
     "end_time": "2024-08-31T10:30:32.498198",
     "exception": false,
     "start_time": "2024-08-31T10:30:32.471311",
     "status": "completed"
    },
    "tags": []
   },
   "outputs": [
    {
     "data": {
      "text/plain": [
       "1043"
      ]
     },
     "execution_count": 27,
     "metadata": {},
     "output_type": "execute_result"
    }
   ],
   "source": [
    "num_stores"
   ]
  },
  {
   "cell_type": "code",
   "execution_count": 28,
   "id": "1a680fb7",
   "metadata": {
    "execution": {
     "iopub.execute_input": "2024-08-31T10:30:32.530811Z",
     "iopub.status.busy": "2024-08-31T10:30:32.530374Z",
     "iopub.status.idle": "2024-08-31T10:30:32.543882Z",
     "shell.execute_reply": "2024-08-31T10:30:32.542782Z"
    },
    "papermill": {
     "duration": 0.032428,
     "end_time": "2024-08-31T10:30:32.546095",
     "exception": false,
     "start_time": "2024-08-31T10:30:32.513667",
     "status": "completed"
    },
    "tags": []
   },
   "outputs": [
    {
     "data": {
      "application/javascript": [
       "parent.postMessage({\"jupyterEvent\": \"custom.exercise_interaction\", \"data\": {\"interactionType\": 2, \"questionType\": 2, \"questionId\": \"5_Q5\", \"learnToolsVersion\": \"0.3.4\", \"valueTowardsCompletion\": 0.0, \"failureMessage\": \"\", \"exceptionClass\": \"\", \"trace\": \"\", \"outcomeType\": 4}}, \"*\")"
      ],
      "text/plain": [
       "<IPython.core.display.Javascript object>"
      ]
     },
     "metadata": {},
     "output_type": "display_data"
    },
    {
     "data": {
      "text/markdown": [
       "<span style=\"color:#3366cc\">Hint:</span> Use a spatial join with `starbucks_gdf` and `sel_counties`."
      ],
      "text/plain": [
       "Hint: Use a spatial join with `starbucks_gdf` and `sel_counties`."
      ]
     },
     "metadata": {},
     "output_type": "display_data"
    },
    {
     "data": {
      "application/javascript": [
       "parent.postMessage({\"jupyterEvent\": \"custom.exercise_interaction\", \"data\": {\"interactionType\": 3, \"questionType\": 2, \"questionId\": \"5_Q5\", \"learnToolsVersion\": \"0.3.4\", \"valueTowardsCompletion\": 0.0, \"failureMessage\": \"\", \"exceptionClass\": \"\", \"trace\": \"\", \"outcomeType\": 4}}, \"*\")"
      ],
      "text/plain": [
       "<IPython.core.display.Javascript object>"
      ]
     },
     "metadata": {},
     "output_type": "display_data"
    },
    {
     "data": {
      "text/markdown": [
       "<span style=\"color:#33cc99\">Solution:</span> \n",
       "```python\n",
       "locations_of_interest = gpd.sjoin(starbucks_gdf, sel_counties)\n",
       "num_stores = len(locations_of_interest)\n",
       "\n",
       "```"
      ],
      "text/plain": [
       "Solution: \n",
       "```python\n",
       "locations_of_interest = gpd.sjoin(starbucks_gdf, sel_counties)\n",
       "num_stores = len(locations_of_interest)\n",
       "\n",
       "```"
      ]
     },
     "metadata": {},
     "output_type": "display_data"
    }
   ],
   "source": [
    "# Lines below will give you a hint or solution code\n",
    "q_5.hint()\n",
    "q_5.solution()"
   ]
  },
  {
   "cell_type": "markdown",
   "id": "443a7fa7",
   "metadata": {
    "papermill": {
     "duration": 0.016934,
     "end_time": "2024-08-31T10:30:32.579057",
     "exception": false,
     "start_time": "2024-08-31T10:30:32.562123",
     "status": "completed"
    },
    "tags": []
   },
   "source": [
    "### 6) Visualize the store locations.\n",
    "\n",
    "Create a map that shows the locations of the stores that you identified in the previous question."
   ]
  },
  {
   "cell_type": "code",
   "execution_count": 29,
   "id": "092ea2be",
   "metadata": {
    "execution": {
     "iopub.execute_input": "2024-08-31T10:30:32.615695Z",
     "iopub.status.busy": "2024-08-31T10:30:32.614871Z",
     "iopub.status.idle": "2024-08-31T10:30:33.581844Z",
     "shell.execute_reply": "2024-08-31T10:30:33.580427Z"
    },
    "papermill": {
     "duration": 0.98787,
     "end_time": "2024-08-31T10:30:33.584594",
     "exception": false,
     "start_time": "2024-08-31T10:30:32.596724",
     "status": "completed"
    },
    "tags": []
   },
   "outputs": [
    {
     "data": {
      "application/javascript": [
       "parent.postMessage({\"jupyterEvent\": \"custom.exercise_interaction\", \"data\": {\"interactionType\": 2, \"questionType\": 2, \"questionId\": \"6_Q6\", \"learnToolsVersion\": \"0.3.4\", \"valueTowardsCompletion\": 0.0, \"failureMessage\": \"\", \"exceptionClass\": \"\", \"trace\": \"\", \"outcomeType\": 4}}, \"*\")"
      ],
      "text/plain": [
       "<IPython.core.display.Javascript object>"
      ]
     },
     "metadata": {},
     "output_type": "display_data"
    },
    {
     "data": {
      "text/markdown": [
       "<span style=\"color:#3366cc\">Hint:</span> We visualized store locations with `folium.plugins.MarkerCluster()`."
      ],
      "text/plain": [
       "Hint: We visualized store locations with `folium.plugins.MarkerCluster()`."
      ]
     },
     "metadata": {},
     "output_type": "display_data"
    },
    {
     "data": {
      "text/html": [
       "\n",
       "        <iframe\n",
       "            width=\"100%\"\n",
       "            height=\"500px\"\n",
       "            src=\"q_6.html\"\n",
       "            frameborder=\"0\"\n",
       "            allowfullscreen\n",
       "            \n",
       "        ></iframe>\n",
       "        "
      ],
      "text/plain": [
       "<IPython.lib.display.IFrame at 0x77ffd94c2b90>"
      ]
     },
     "execution_count": 29,
     "metadata": {},
     "output_type": "execute_result"
    }
   ],
   "source": [
    "# Create a base map\n",
    "m_6 = folium.Map(location=[37,-120], zoom_start=6)\n",
    "\n",
    "# Your code here: show selected store locations\n",
    "mc = MarkerCluster()\n",
    "\n",
    "locations_of_interest = gpd.sjoin(starbucks_gdf, sel_counties)\n",
    "for idx, row in locations_of_interest.iterrows():\n",
    "    if not math.isnan(row['Longitude']) and not math.isnan(row['Latitude']):\n",
    "        mc.add_child(folium.Marker([row['Latitude'], row['Longitude']]))\n",
    "\n",
    "m_6.add_child(mc)\n",
    "\n",
    "# Uncomment to see a hint\n",
    "q_6.hint()\n",
    "\n",
    "# Show the map\n",
    "embed_map(m_6, 'q_6.html')"
   ]
  },
  {
   "cell_type": "code",
   "execution_count": 30,
   "id": "e90d10fb",
   "metadata": {
    "execution": {
     "iopub.execute_input": "2024-08-31T10:30:33.621691Z",
     "iopub.status.busy": "2024-08-31T10:30:33.620617Z",
     "iopub.status.idle": "2024-08-31T10:30:34.286045Z",
     "shell.execute_reply": "2024-08-31T10:30:34.284372Z"
    },
    "papermill": {
     "duration": 0.687159,
     "end_time": "2024-08-31T10:30:34.289535",
     "exception": false,
     "start_time": "2024-08-31T10:30:33.602376",
     "status": "completed"
    },
    "tags": []
   },
   "outputs": [],
   "source": [
    "m_6.save('starbucks_map.html')\n"
   ]
  },
  {
   "cell_type": "code",
   "execution_count": 31,
   "id": "a5d5be0c",
   "metadata": {
    "execution": {
     "iopub.execute_input": "2024-08-31T10:30:34.332200Z",
     "iopub.status.busy": "2024-08-31T10:30:34.331771Z",
     "iopub.status.idle": "2024-08-31T10:30:34.345516Z",
     "shell.execute_reply": "2024-08-31T10:30:34.344325Z"
    },
    "papermill": {
     "duration": 0.03813,
     "end_time": "2024-08-31T10:30:34.347902",
     "exception": false,
     "start_time": "2024-08-31T10:30:34.309772",
     "status": "completed"
    },
    "tags": []
   },
   "outputs": [
    {
     "data": {
      "application/javascript": [
       "parent.postMessage({\"jupyterEvent\": \"custom.exercise_interaction\", \"data\": {\"outcomeType\": 1, \"valueTowardsCompletion\": 0.2, \"interactionType\": 1, \"questionType\": 2, \"questionId\": \"6_Q6\", \"learnToolsVersion\": \"0.3.4\", \"failureMessage\": \"\", \"exceptionClass\": \"\", \"trace\": \"\"}}, \"*\")"
      ],
      "text/plain": [
       "<IPython.core.display.Javascript object>"
      ]
     },
     "metadata": {},
     "output_type": "display_data"
    },
    {
     "data": {
      "text/markdown": [
       "<span style=\"color:#33cc33\">Thank you for creating a map!</span>"
      ],
      "text/plain": [
       "Thank you for creating a map!"
      ]
     },
     "metadata": {},
     "output_type": "display_data"
    },
    {
     "data": {
      "application/javascript": [
       "parent.postMessage({\"jupyterEvent\": \"custom.exercise_interaction\", \"data\": {\"interactionType\": 3, \"questionType\": 2, \"questionId\": \"6_Q6\", \"learnToolsVersion\": \"0.3.4\", \"valueTowardsCompletion\": 0.0, \"failureMessage\": \"\", \"exceptionClass\": \"\", \"trace\": \"\", \"outcomeType\": 4}}, \"*\")"
      ],
      "text/plain": [
       "<IPython.core.display.Javascript object>"
      ]
     },
     "metadata": {},
     "output_type": "display_data"
    },
    {
     "data": {
      "text/markdown": [
       "<span style=\"color:#33cc99\">Solution:</span> \n",
       "```python\n",
       "# Show selected store locations\n",
       "mc = MarkerCluster()\n",
       "\n",
       "locations_of_interest = gpd.sjoin(starbucks_gdf, sel_counties)\n",
       "for idx, row in locations_of_interest.iterrows():\n",
       "    if not math.isnan(row['Longitude']) and not math.isnan(row['Latitude']):\n",
       "        mc.add_child(folium.Marker([row['Latitude'], row['Longitude']]))\n",
       "        \n",
       "m_6.add_child(mc)\n",
       "\n",
       "```"
      ],
      "text/plain": [
       "Solution: \n",
       "```python\n",
       "# Show selected store locations\n",
       "mc = MarkerCluster()\n",
       "\n",
       "locations_of_interest = gpd.sjoin(starbucks_gdf, sel_counties)\n",
       "for idx, row in locations_of_interest.iterrows():\n",
       "    if not math.isnan(row['Longitude']) and not math.isnan(row['Latitude']):\n",
       "        mc.add_child(folium.Marker([row['Latitude'], row['Longitude']]))\n",
       "        \n",
       "m_6.add_child(mc)\n",
       "\n",
       "```"
      ]
     },
     "metadata": {},
     "output_type": "display_data"
    }
   ],
   "source": [
    "# Get credit for your work after you have created a map\n",
    "q_6.check()\n",
    "\n",
    "# Uncomment to see our solution (your code may look different!)\n",
    "q_6.solution()"
   ]
  },
  {
   "cell_type": "markdown",
   "id": "7bcd6a26",
   "metadata": {
    "papermill": {
     "duration": 0.022274,
     "end_time": "2024-08-31T10:30:34.386951",
     "exception": false,
     "start_time": "2024-08-31T10:30:34.364677",
     "status": "completed"
    },
    "tags": []
   },
   "source": [
    "# Keep going\n",
    "\n",
    "Learn about how **[proximity analysis](https://www.kaggle.com/alexisbcook/proximity-analysis)** can help you to understand the relationships between points on a map."
   ]
  },
  {
   "cell_type": "markdown",
   "id": "adf676af",
   "metadata": {
    "papermill": {
     "duration": 0.026465,
     "end_time": "2024-08-31T10:30:34.435550",
     "exception": false,
     "start_time": "2024-08-31T10:30:34.409085",
     "status": "completed"
    },
    "tags": []
   },
   "source": [
    "---\n",
    "\n",
    "\n",
    "\n",
    "\n",
    "*Have questions or comments? Visit the [course discussion forum](https://www.kaggle.com/learn/geospatial-analysis/discussion) to chat with other learners.*"
   ]
  }
 ],
 "metadata": {
  "kaggle": {
   "accelerator": "none",
   "dataSources": [
    {
     "datasetId": 348259,
     "sourceId": 695175,
     "sourceType": "datasetVersion"
    },
    {
     "datasetId": 116573,
     "sourceId": 3551030,
     "sourceType": "datasetVersion"
    }
   ],
   "isGpuEnabled": false,
   "isInternetEnabled": false,
   "language": "python",
   "sourceType": "notebook"
  },
  "kernelspec": {
   "display_name": "Python 3",
   "language": "python",
   "name": "python3"
  },
  "language_info": {
   "codemirror_mode": {
    "name": "ipython",
    "version": 3
   },
   "file_extension": ".py",
   "mimetype": "text/x-python",
   "name": "python",
   "nbconvert_exporter": "python",
   "pygments_lexer": "ipython3",
   "version": "3.10.14"
  },
  "papermill": {
   "default_parameters": {},
   "duration": 10.689716,
   "end_time": "2024-08-31T10:30:35.179544",
   "environment_variables": {},
   "exception": null,
   "input_path": "__notebook__.ipynb",
   "output_path": "__notebook__.ipynb",
   "parameters": {},
   "start_time": "2024-08-31T10:30:24.489828",
   "version": "2.6.0"
  }
 },
 "nbformat": 4,
 "nbformat_minor": 5
}
